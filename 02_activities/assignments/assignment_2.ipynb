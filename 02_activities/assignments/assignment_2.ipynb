{
 "cells": [
  {
   "cell_type": "markdown",
   "metadata": {},
   "source": [
    "# Practice Interview\n",
    "\n",
    "## Objective\n",
    "\n",
    "_*The partner assignment aims to provide participants with the opportunity to practice coding in an interview context. You will analyze your partner's Assignment 1. Moreover, code reviews are common practice in a software development team. This assignment should give you a taste of the code review process.*_\n",
    "\n",
    "## Group Size\n",
    "\n",
    "Each group should have 2 people. You will be assigned a partner\n",
    "\n",
    "## Parts:\n",
    "- Part 1: Complete 1 of 3 questions\n",
    "- Part 2: Review your partner's Assignment 1 submission\n",
    "- Part 3: Perform code review of your partner's assignment 1 by answering the questions below\n",
    "- Part 3: Reflect on Assignment 1 and Assignment 2\n",
    "\n",
    "## Part 1:\n",
    "\n",
    "_*You will be assigned one of three problems based of your first name. Enter your first name, in all lower case, execute the code below, and that will tell you your assigned problem. Include the output as part of your submission (do not clear the output). The problems are based-off problems from Leetcode.*_"
   ]
  },
  {
   "cell_type": "code",
   "execution_count": 1,
   "metadata": {},
   "outputs": [
    {
     "name": "stdout",
     "output_type": "stream",
     "text": [
      "1\n"
     ]
    }
   ],
   "source": [
    "import hashlib\n",
    "\n",
    "def hash_to_range(input_string: str) -> int:\n",
    "     hash_object = hashlib.sha256(input_string.encode())\n",
    "     hash_int = int(hash_object.hexdigest(), 16)\n",
    "     return (hash_int % 3) + 1\n",
    "input_string = \"junaid\"\n",
    "result = hash_to_range(input_string)\n",
    "print(result)\n"
   ]
  },
  {
   "cell_type": "markdown",
   "metadata": {},
   "source": [
    "<details>\n",
    "  <summary>Question 1</summary>\n",
    "\n",
    "  # Question One: Check Duplicates in Tree\n",
    "\n",
    "  Given the `root` of a binary tree, check whether it is contains a duplicate value. If a duplicate exists, return the duplicate value. If there are multiple duplicates, return the one with the closest distance to the root. If no duplicate exists, return -1.\n",
    "\n",
    "  ## Examples\n",
    "\n",
    "  ### Example 1\n",
    "\n",
    "  ![](./images/q1_ex1.png)\n",
    "\n",
    "  Input: `root = [1, 2, 2, 3, 5, 6, 7]` *What traversal method is this?*\n",
    "\n",
    "  Output: 2\n",
    "\n",
    "  ### Example 2\n",
    "\n",
    "  ![](./images/q1_ex2.png)\n",
    "\n",
    "  Input: `root = [1, 10, 2, 3, 10, 12, 12]`\n",
    "\n",
    "  Output: 10\n",
    "\n",
    "  ### Example 3\n",
    "\n",
    "  ![](./images/q1_ex3.png)\n",
    "\n",
    "  Input: `root = [10, 9, 8, 7]`\n",
    "\n",
    "  Output: -1\n",
    "\n",
    "</details>\n",
    "\n",
    "#### Starter Code for Question 1"
   ]
  },
  {
   "cell_type": "code",
   "execution_count": null,
   "metadata": {},
   "outputs": [],
   "source": [
    "# Definition for a binary tree node.\n",
    "class TreeNode(object):\n",
    "    def __init__(self, val = 0, left = None, right = None):\n",
    "        self.val = val\n",
    "        self.left = left\n",
    "        self.right = right\n",
    "\n",
    "from collections import deque\n",
    "def is_duplicate(root: TreeNode) -> int:\n",
    "  if root is None:\n",
    "    return -1\n",
    "  \n",
    "  # We are using BFS\n",
    "  queue = deque()\n",
    "  queue.append((root, 0))\n",
    "  seen = {}\n",
    "  \n",
    "  while queue:\n",
    "    current_node, current_distance = queue.popleft()\n",
    "    # Check if value exists in seen first\n",
    "    if current_node.val in seen:\n",
    "      # Returns the duplicate value immediately\n",
    "      return current_node.val\n",
    "    else:\n",
    "      # Add to seen only if not already present\n",
    "      seen[current_node.val] = current_distance \n",
    "\t\n",
    "    \n",
    "    if current_node.left is not None:\n",
    "      queue.append((current_node.left, current_distance + 1))\n",
    "    if current_node.right is not None:\n",
    "      queue.append((current_node.right, current_distance + 1))\n",
    "  \n",
    "  return -1\n",
    "\n"
   ]
  },
  {
   "cell_type": "code",
   "execution_count": 8,
   "metadata": {},
   "outputs": [
    {
     "name": "stdout",
     "output_type": "stream",
     "text": [
      "Example 1 Test: 2\n",
      "Example 2 Test: 10\n",
      "Example 3 Test: -1\n"
     ]
    }
   ],
   "source": [
    "# Test cases for Question 1\n",
    "class TreeNode:\n",
    "    def __init__(self, val=0, left=None, right=None):\n",
    "        self.val = val\n",
    "        self.left = left\n",
    "        self.right = right\n",
    "        \n",
    "        \n",
    "        \n",
    "# Test Case Example 1: [1, 2, 2, 3, 5, 6, 7] - Expected: 2\n",
    "\n",
    "root_example1 = TreeNode(1)\n",
    "root_example1.left = TreeNode(2)\n",
    "root_example1.right = TreeNode(2)\n",
    "root_example1.left.left = TreeNode(3)\n",
    "root_example1.left.right = TreeNode(5)\n",
    "root_example1.right.left = TreeNode(6)\n",
    "root_example1.right.right = TreeNode(7)\n",
    "print(\"Example 1 Test:\", is_duplicate(root_example1))  # Expected: 2\n",
    "\n",
    "\n",
    "# Test Case 2: [1, 10, 2, 3, 10, 12, 12] - Expected: 10\n",
    "\n",
    "root_example2 = TreeNode(1)\n",
    "root_example2.left = TreeNode(10)\n",
    "root_example2.right = TreeNode(2)\n",
    "root_example2.left.left = TreeNode(3)\n",
    "root_example2.left.right = TreeNode(10)\n",
    "root_example2.right.left = TreeNode(12)\n",
    "root_example2.right.right = TreeNode(12)\n",
    "print(\"Example 2 Test:\", is_duplicate(root_example2))  # Expected: 10\n",
    "\n",
    "# Test Case 3: [10, 9, 8, 7] - Expected: -1 (no duplicates)\n",
    "\n",
    "root_example3 = TreeNode(10)\n",
    "root_example3.left = TreeNode(9)\n",
    "root_example3.left.left = TreeNode(8)\n",
    "root_example3.left.left.left = TreeNode(7)\n",
    "print(\"Example 3 Test:\", is_duplicate(root_example3))  # Expected: -1\n",
    "\n",
    "\n"
   ]
  },
  {
   "cell_type": "markdown",
   "metadata": {},
   "source": [
    "<details>\n",
    "  <summary>Question 2</summary>\n",
    "\n",
    "  # Question Two: Path to Leaves\n",
    "\n",
    "  Given the `root` of a binary tree, return all root to leaf paths in any order.\n",
    "\n",
    "  ## Examples\n",
    "\n",
    "  ### Example 1\n",
    "\n",
    "  ![](./images/q1_ex1.png)\n",
    "\n",
    "  Input: `root = [1, 2, 2, 3, 5, 6, 7]` *What traversal method is this?*\n",
    "\n",
    "  Output: [[1, 2, 3], [1, 2, 5], [1, 2, 6], [1, 2, 7]]\n",
    "\n",
    "  ### Example 2\n",
    "\n",
    "  ![](./images/q1_ex3.png)\n",
    "\n",
    "  Input: `root = [10, 9, 7, 8]`\n",
    "\n",
    "  Output: [[10, 7], [10, 9, 8]]\n",
    "\n",
    "</details>\n",
    "\n",
    "#### Starter Code for Question 2"
   ]
  },
  {
   "cell_type": "code",
   "execution_count": 9,
   "metadata": {},
   "outputs": [
    {
     "ename": "IndentationError",
     "evalue": "expected an indented block (1667981786.py, line 8)",
     "output_type": "error",
     "traceback": [
      "\u001b[0;36m  Cell \u001b[0;32mIn[9], line 8\u001b[0;36m\u001b[0m\n\u001b[0;31m    # TODO\u001b[0m\n\u001b[0m          ^\u001b[0m\n\u001b[0;31mIndentationError\u001b[0m\u001b[0;31m:\u001b[0m expected an indented block\n"
     ]
    }
   ],
   "source": [
    "# Definition for a binary tree node.\n",
    "# class TreeNode(object):\n",
    "#     def __init__(self, val = 0, left = None, right = None):\n",
    "#         self.val = val\n",
    "#         self.left = left\n",
    "#         self.right = right\n",
    "def bt_path(root: TreeNode) -> List[List[int]]:\n",
    "  # TODO"
   ]
  },
  {
   "cell_type": "markdown",
   "metadata": {},
   "source": [
    "<details>\n",
    "  <summary>Question 3</summary>\n",
    "\n",
    "  # Question Three: Missing Number in Range\n",
    " \n",
    "  You are given a list containing `n` integers in the range `[0, n]`. Return a list of numbers that are missing from the range `[0, n]` of the array. If there is no missing number, return -1. Note, all the integers in the list may not be unique.\n",
    "  \n",
    "  ## Examples\n",
    "\n",
    "  ### Example 1\n",
    "\n",
    "  Input: `lst = [0, 2]`\n",
    "\n",
    "  Output: [1]\n",
    "\n",
    "  ### Example 2\n",
    "\n",
    "  Input: `lst = [5, 0, 1]`\n",
    "\n",
    "  Output: [2, 3, 4]\n",
    "\n",
    "  ### Example 3\n",
    "\n",
    "  Input: `lst = [6, 8, 2, 3, 5, 7, 0, 1, 10]`\n",
    "\n",
    "  Output: [4, 9]\n",
    "\n",
    "</details>\n",
    "\n",
    "#### Starter Code for Question 3\n"
   ]
  },
  {
   "cell_type": "code",
   "execution_count": null,
   "metadata": {
    "scrolled": true
   },
   "outputs": [],
   "source": [
    "def missing_num(nums: List) -> int:\n",
    "  # TODO"
   ]
  },
  {
   "cell_type": "markdown",
   "metadata": {
    "jp-MarkdownHeadingCollapsed": true
   },
   "source": [
    "## Part 2:\n",
    "\n",
    "You and your partner must share each other's Assignment 1 submission."
   ]
  },
  {
   "cell_type": "markdown",
   "metadata": {},
   "source": [
    "\n",
    "## Part 3:\n",
    "\n",
    "Create a Jupyter Notebook, create 6 of the following headings, and complete the following for your partner's assignment 1:\n",
    "\n",
    "-   Paraphrase the problem in your own words.\n"
   ]
  },
  {
   "cell_type": "markdown",
   "metadata": {},
   "source": [
    "#### Your answer here\n",
    "Moving all zero elements to the right and move all non-zero elements to the left while keeping their order same"
   ]
  },
  {
   "cell_type": "markdown",
   "metadata": {},
   "source": [
    "\n",
    "-   Create 1 new example that demonstrates you understand the problem. Trace/walkthrough 1 example that your partner made and explain it.\n"
   ]
  },
  {
   "cell_type": "markdown",
   "metadata": {},
   "source": [
    "#### Your answer here\n",
    "\n",
    "Input: [0, 0, 5, 1, 0, 3] <br>\n",
    "Expected output: [5, 1, 3, 0, 0, 0]\n"
   ]
  },
  {
   "cell_type": "markdown",
   "metadata": {},
   "source": [
    "\n",
    "-   Copy the solution your partner wrote. \n"
   ]
  },
  {
   "cell_type": "code",
   "execution_count": 10,
   "metadata": {},
   "outputs": [],
   "source": [
    "# Your answer here\n",
    "from typing import List\n",
    "\n",
    "def move_zeros_to_end(nums: List[int]) -> List[int]:\n",
    "    index = 0\n",
    "    for x in range(0,len(nums)):\n",
    "        if nums[x] != 0:\n",
    "            if nums[x] != nums[index]:\n",
    "                print(f\"Index of the item being shifted is {x}, with the index of zero being {index}\")\n",
    "                nums[x], nums[index] = nums[index], nums[x]\n",
    "            index += 1\n",
    "            print(f\"The list after {index} shift {nums}\\n\")\n",
    "    return nums"
   ]
  },
  {
   "cell_type": "code",
   "execution_count": 15,
   "metadata": {},
   "outputs": [
    {
     "name": "stdout",
     "output_type": "stream",
     "text": [
      "Test 1:\n",
      "Index of the item being shifted is 2, with the index of zero being 0\n",
      "The list after 1 shift [5, 0, 0, 1, 0, 3]\n",
      "\n",
      "Index of the item being shifted is 3, with the index of zero being 1\n",
      "The list after 2 shift [5, 1, 0, 0, 0, 3]\n",
      "\n",
      "Index of the item being shifted is 5, with the index of zero being 2\n",
      "The list after 3 shift [5, 1, 3, 0, 0, 0]\n",
      "\n",
      "Result: [5, 1, 3, 0, 0, 0]\n",
      "Expected: [5, 1, 3, 0, 0, 0]\n",
      "\n"
     ]
    }
   ],
   "source": [
    "# Test Case 1: Given example\n",
    "print(\"Test 1:\")\n",
    "result1 = move_zeros_to_end([0, 0, 5, 1, 0, 3])\n",
    "print(f\"Result: {result1}\")\n",
    "print(f\"Expected: [5, 1, 3, 0, 0, 0]\\n\")"
   ]
  },
  {
   "cell_type": "markdown",
   "metadata": {},
   "source": [
    "\n",
    "-   Explain why their solution works in your own words.\n"
   ]
  },
  {
   "cell_type": "markdown",
   "metadata": {},
   "source": [
    "##### Your answer here\n",
    "\n",
    "The solution uses two pointers, x and index. x checks every position in the list, whereas index marks where to place next non-zero number. When x finds a non-zero number at its position, swap it with whatever number is at position index. Then index moves forward one spot. \n",
    "\n",
    "Index always points to the first position that should contain a non-zero number. Every swap moves a non-zero number forward and pushes zero further back. Collects all non-zero numbers at the front and pushes all zeros at the end"
   ]
  },
  {
   "cell_type": "markdown",
   "metadata": {},
   "source": [
    "\n",
    "-   Explain the problem’s time and space complexity in your own words.\n"
   ]
  },
  {
   "cell_type": "markdown",
   "metadata": {},
   "source": [
    "##### Your answer here\n",
    "Time Complexity: The loop runs exactly n times (where n is the list length) and each operation inside the loop takes O(1)\n",
    "\n",
    "Space Complexity: The algorithm uses fixed amount of space regardless of input size"
   ]
  },
  {
   "cell_type": "markdown",
   "metadata": {},
   "source": [
    "\n",
    "-   Critique your partner's solution, including explanation, and if there is anything that should be adjusted.\n"
   ]
  },
  {
   "cell_type": "markdown",
   "metadata": {},
   "source": [
    "##### Your answer here\n",
    "The if nums[x] != nums[index] condition is redundant and adds complexity:\n",
    "\n",
    "Remove this: \n",
    "```\n",
    "if nums[x] != nums[index]:\n",
    "```\n"
   ]
  },
  {
   "cell_type": "markdown",
   "metadata": {},
   "source": [
    "\n",
    "## Part 4:\n",
    "\n",
    "Please write a 200 word reflection documenting your process from assignment 1, and your presentation and review experience with your partner at the bottom of the Jupyter Notebook under a new heading \"Reflection.\" Again, export this Notebook as pdf.\n"
   ]
  },
  {
   "cell_type": "markdown",
   "metadata": {},
   "source": [
    "### Reflection"
   ]
  },
  {
   "cell_type": "markdown",
   "metadata": {},
   "source": [
    "##### Your answer here\n",
    "\n",
    "Looking at my partner's approach to moving zeros, I found their solution effective but with room for refinement. They used a smart two pointer technique that modifies the array directly, showing solid understanding of efficient algorithms. The debug print statements were actually quite useful they helped me trace through exactly how elements get swapped during execution.\n",
    "\n",
    "That said, I noticed some areas that could be cleaner. The extra condition checking if nums[x] != nums[index], feels redundant and makes the logic harder to follow without providing real value. The variable names x and index are not very descriptive either something like current and write_pos would make the code's intent clearer. Also, while those print statements are great for debugging, they would need removal for production use since they slow processing.\n",
    "\n",
    "The fundamental approach is solid though it runs in linear time and uses constant extra space, which is ideal. When we discussed it, we agreed that removing that unnecessary conditional would streamline the code without hurting performance. This review process was valuable for seeing different problem solving approaches and reminded me why readable code matters so much in collaborative work. Working together helped us both improve our solutions and understand the algorithm more deeply through shared perspective and technical discussion of our methods."
   ]
  },
  {
   "cell_type": "markdown",
   "metadata": {},
   "source": [
    "\n",
    "## Evaluation Criteria\n",
    "\n",
    "We are looking for the similar points as Assignment 1\n",
    "\n",
    "-   Problem is accurately stated\n",
    "\n",
    "-   New example is correct and easily understandable\n",
    "\n",
    "-   Correctness, time, and space complexity of the coding solution\n",
    "\n",
    "-   Clarity in explaining why the solution works, its time and space complexity\n",
    "\n",
    "-   Quality of critique of your partner's assignment, if necessary\n"
   ]
  },
  {
   "cell_type": "markdown",
   "metadata": {},
   "source": [
    "## Submission Information\n",
    "\n",
    "🚨 **Please review our [Assignment Submission Guide](https://github.com/UofT-DSI/onboarding/blob/main/onboarding_documents/submissions.md)** 🚨 for detailed instructions on how to format, branch, and submit your work. Following these guidelines is crucial for your submissions to be evaluated correctly.\n",
    "\n",
    "### Submission Parameters:\n",
    "* Submission Due Date: `HH:MM AM/PM - DD/MM/YYYY`\n",
    "* The branch name for your repo should be: `assignment-2`\n",
    "* What to submit for this assignment:\n",
    "    * This Jupyter Notebook (assignment_2.ipynb) should be populated and should be the only change in your pull request.\n",
    "* What the pull request link should look like for this assignment: `https://github.com/<your_github_username>/algorithms_and_data_structures/pull/<pr_id>`\n",
    "    * Open a private window in your browser. Copy and paste the link to your pull request into the address bar. Make sure you can see your pull request properly. This helps the technical facilitator and learning support staff review your submission easily.\n",
    "\n",
    "Checklist:\n",
    "- [ ] Created a branch with the correct naming convention.\n",
    "- [ ] Ensured that the repository is public.\n",
    "- [ ] Reviewed the PR description guidelines and adhered to them.\n",
    "- [ ] Verify that the link is accessible in a private browser window.\n",
    "\n",
    "If you encounter any difficulties or have questions, please don't hesitate to reach out to our team via our Slack at `#cohort-6-help`. Our Technical Facilitators and Learning Support staff are here to help you navigate any challenges.\n"
   ]
  },
  {
   "cell_type": "code",
   "execution_count": null,
   "metadata": {},
   "outputs": [],
   "source": []
  }
 ],
 "metadata": {
  "kernelspec": {
   "display_name": "dsi_production_only",
   "language": "python",
   "name": "python3"
  },
  "language_info": {
   "codemirror_mode": {
    "name": "ipython",
    "version": 3
   },
   "file_extension": ".py",
   "mimetype": "text/x-python",
   "name": "python",
   "nbconvert_exporter": "python",
   "pygments_lexer": "ipython3",
   "version": "3.9.23"
  }
 },
 "nbformat": 4,
 "nbformat_minor": 4
}
